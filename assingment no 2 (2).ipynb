{
 "cells": [
  {
   "cell_type": "markdown",
   "id": "3a6e175b",
   "metadata": {},
   "source": [
    "# project of regular expression"
   ]
  },
  {
   "cell_type": "code",
   "execution_count": 2,
   "id": "d0cb2bba",
   "metadata": {},
   "outputs": [
    {
     "name": "stdout",
     "output_type": "stream",
     "text": [
      "india:is::a:biggest::economy\n"
     ]
    }
   ],
   "source": [
    "#question no 1\n",
    "\n",
    "import re\n",
    "text=\"india is. a   biggest,.economy\"\n",
    "x=re.sub(r\"\\s+|\\.|,\",\":\",text)\n",
    "print(x)"
   ]
  },
  {
   "cell_type": "code",
   "execution_count": 16,
   "id": "543a5413",
   "metadata": {},
   "outputs": [
    {
     "name": "stdout",
     "output_type": "stream",
     "text": [
      "                  Teacher\n",
      "0             studentname\n",
      "1         xxxx Attendence\n",
      "2  456marksscoreinsubject\n"
     ]
    }
   ],
   "source": [
    "#question no 2\n",
    "import pandas as pd\n",
    "import re\n",
    "data={'Teacher':['student,name!','xxxx Attendence','456marks,score:;in..?subject']}\n",
    "df=pd.DataFrame(data)\n",
    "df[\"Teacher\"]=df[\"Teacher\"].apply(lambda x:re.sub(r'[^\\w\\s]','',x))\n",
    "\n",
    "print(df)\n"
   ]
  },
  {
   "cell_type": "code",
   "execution_count": 17,
   "id": "d95aa8b2",
   "metadata": {},
   "outputs": [
    {
     "name": "stdout",
     "output_type": "stream",
     "text": [
      "['exam', 'stor', 'like', 'ther', 'gard', 'wond', 'erin', 'here', 'ther']\n"
     ]
    }
   ],
   "source": [
    "#question no 3\n",
    "import re\n",
    "pattern=re.compile(r\"\\w{4}\")\n",
    "text= \"The example of a story be like there was a fox in the garden she was wondering here and there.\"\n",
    "\n",
    "matches=pattern.findall(text)\n",
    "\n",
    "print(matches)\n"
   ]
  },
  {
   "cell_type": "code",
   "execution_count": 19,
   "id": "bfa5a996",
   "metadata": {},
   "outputs": [
    {
     "name": "stdout",
     "output_type": "stream",
     "text": [
      "['The', 'story', 'like', 'there', 'was', 'fox', 'the', 'she', 'was', 'here', 'and', 'there']\n"
     ]
    }
   ],
   "source": [
    "#question no 4\n",
    "import re\n",
    "pattern=re.compile(r'\\b\\w{3}\\b|\\b\\w{4}\\b|\\b\\w{5}\\b')\n",
    "text= \"The example of a story be like there was a fox in the garden she was wondering here and there.\"\n",
    "\n",
    "matches=pattern.findall(text)\n",
    "\n",
    "print(matches)\n",
    "\n"
   ]
  },
  {
   "cell_type": "code",
   "execution_count": 25,
   "id": "79dd52b1",
   "metadata": {},
   "outputs": [
    {
     "name": "stdout",
     "output_type": "stream",
     "text": [
      "[['New', 'phone'], ['Work', 'shop'], ['Chat', 'corner'], ['hritik', 'sharma']]\n"
     ]
    }
   ],
   "source": [
    "#question no 5\n",
    "import re\n",
    "pattern=re.compile(r'\\w+')\n",
    "text=['New(phone)','Work(shop)','Chat(corner)','hritik(sharma)']\n",
    "\n",
    "matches=[pattern.findall(s) for s in text]\n",
    "\n",
    "print(matches)"
   ]
  },
  {
   "cell_type": "code",
   "execution_count": null,
   "id": "cb2f7df6",
   "metadata": {},
   "outputs": [],
   "source": [
    "#question no 6\n",
    "import re\n",
    "pattern= re.compile"
   ]
  },
  {
   "cell_type": "code",
   "execution_count": 28,
   "id": "173ebef2",
   "metadata": {},
   "outputs": [
    {
     "name": "stdout",
     "output_type": "stream",
     "text": [
      "['', 'Nothing', 'Is', 'Imposible', 'The', 'World', 'Itself', \"Say's\", 'I', 'Am', 'Possible']\n"
     ]
    }
   ],
   "source": [
    "#question no 7\n",
    "import re\n",
    "text = \"NothingIsImposibleTheWorldItselfSay'sIAmPossible\"\n",
    "\n",
    "pattern = re.compile(r'(?=[A-Z])')\n",
    "result = pattern.split(text)\n",
    "\n",
    "print(result)\n"
   ]
  },
  {
   "cell_type": "code",
   "execution_count": 34,
   "id": "7bbbb6a6",
   "metadata": {},
   "outputs": [
    {
     "name": "stdout",
     "output_type": "stream",
     "text": [
      "NothingIsImposible23  TheWorldItself4  Say\n"
     ]
    }
   ],
   "source": [
    "#question no 8\n",
    "import re\n",
    "text='NothingIsImposible23TheWorldItself4Say'\n",
    "pattern=r'(?<=\\d)(?=[A-Za-z])'\n",
    "\n",
    "x=re.sub(pattern,\"  \",text)\n",
    "\n",
    "print(x)\n"
   ]
  },
  {
   "cell_type": "code",
   "execution_count": 35,
   "id": "0b28d5ec",
   "metadata": {},
   "outputs": [
    {
     "name": "stdout",
     "output_type": "stream",
     "text": [
      "NothingIsImposible23TheWorldItself4Say\n"
     ]
    }
   ],
   "source": [
    "#question no 9\n",
    "import re\n",
    "text='NothingIsImposible23TheWorldItself4Say'\n",
    "pattern=r'(?<=[a-z])([A-Z0-9])'\n",
    "\n",
    "x=re.sub(pattern,r'\\1',text)\n",
    "\n",
    "print(x)\n"
   ]
  },
  {
   "cell_type": "code",
   "execution_count": 40,
   "id": "f21a0929",
   "metadata": {},
   "outputs": [
    {
     "name": "stdout",
     "output_type": "stream",
     "text": [
      "       Country          Region  Happiness Rank  Happiness Score  \\\n",
      "0  Switzerland  Western Europe               1            7.587   \n",
      "1      Iceland  Western Europe               2            7.561   \n",
      "2      Denmark  Western Europe               3            7.527   \n",
      "3       Norway  Western Europe               4            7.522   \n",
      "4       Canada   North America               5            7.427   \n",
      "\n",
      "   Standard Error  Economy (GDP per Capita)   Family  \\\n",
      "0         0.03411                   1.39651  1.34951   \n",
      "1         0.04884                   1.30232  1.40223   \n",
      "2         0.03328                   1.32548  1.36058   \n",
      "3         0.03880                   1.45900  1.33095   \n",
      "4         0.03553                   1.32629  1.32261   \n",
      "\n",
      "   Health (Life Expectancy)  Freedom  Trust (Government Corruption)  \\\n",
      "0                   0.94143  0.66557                        0.41978   \n",
      "1                   0.94784  0.62877                        0.14145   \n",
      "2                   0.87464  0.64938                        0.48357   \n",
      "3                   0.88521  0.66973                        0.36503   \n",
      "4                   0.90563  0.63297                        0.32957   \n",
      "\n",
      "   Generosity  Dystopia Residual first_five_letters  \n",
      "0     0.29678            2.51738             Switze  \n",
      "1     0.43630            2.70201             Icelan  \n",
      "2     0.34139            2.49204             Denmar  \n",
      "3     0.34699            2.46531             Norway  \n",
      "4     0.45811            2.45176             Canada  \n"
     ]
    }
   ],
   "source": [
    "#question no 10\n",
    "import pandas as pd\n",
    "\n",
    "url = \"https://raw.githubusercontent.com/dsrscientist/DSData/master/happiness_score_dataset.csv\"\n",
    "df = pd.read_csv(url)\n",
    "\n",
    "df['first_five_letters'] = df['Country'].str[:6]\n",
    "print(df.head())\n"
   ]
  },
  {
   "cell_type": "code",
   "execution_count": 42,
   "id": "9cf72e3f",
   "metadata": {},
   "outputs": [
    {
     "name": "stdout",
     "output_type": "stream",
     "text": [
      "<re.Match object; span=(0, 1), match='H'>\n"
     ]
    }
   ],
   "source": [
    "#question no 11\n",
    "import re\n",
    "pattern= r'^[a-zA-Z0-9_]'\n",
    "text='Hello folks i am student of.Datatrained my& batch no, is 1123 Ihave_done my: classes'\n",
    "\n",
    "formula=re.match(pattern,text)\n",
    "\n",
    "print(formula)\n"
   ]
  },
  {
   "cell_type": "code",
   "execution_count": 53,
   "id": "b8fdeac6",
   "metadata": {},
   "outputs": [
    {
     "name": "stdout",
     "output_type": "stream",
     "text": [
      "['Cow', 'Cow']\n"
     ]
    }
   ],
   "source": [
    "#question no 12\n",
    "import re\n",
    "text= \"Cow was suffering from high fever and the deaseas was spreading quickly Cow got ill \"\n",
    "search=re.findall('Cow',text)\n",
    "print(search)"
   ]
  },
  {
   "cell_type": "code",
   "execution_count": null,
   "id": "96edb997",
   "metadata": {},
   "outputs": [],
   "source": [
    "#question no 13\n"
   ]
  },
  {
   "cell_type": "code",
   "execution_count": null,
   "id": "532bed06",
   "metadata": {},
   "outputs": [],
   "source": [
    "#question no 14"
   ]
  },
  {
   "cell_type": "code",
   "execution_count": 2,
   "id": "9df29a0c",
   "metadata": {},
   "outputs": [
    {
     "name": "stdout",
     "output_type": "stream",
     "text": [
      "['fox', 'dog']\n"
     ]
    }
   ],
   "source": [
    "#question no 15\n",
    "import re\n",
    "\n",
    "pattern= r'(fox|dog|horse)'\n",
    "text= 'The quick brown fox jumps over the lazy dog.'\n",
    "\n",
    "matches=re.findall(pattern,text)\n",
    "print(matches)"
   ]
  },
  {
   "cell_type": "code",
   "execution_count": 12,
   "id": "8233638b",
   "metadata": {},
   "outputs": [
    {
     "name": "stdout",
     "output_type": "stream",
     "text": [
      "<re.Match object; span=(16, 19), match='fox'>\n",
      "<re.Match object; span=(16, 19), match='fox'>\n",
      "<re.Match object; span=(16, 19), match='fox'>\n",
      "<re.Match object; span=(16, 19), match='fox'>\n",
      "<re.Match object; span=(16, 19), match='fox'>\n",
      "<re.Match object; span=(16, 19), match='fox'>\n",
      "<re.Match object; span=(16, 19), match='fox'>\n",
      "<re.Match object; span=(16, 19), match='fox'>\n",
      "<re.Match object; span=(16, 19), match='fox'>\n",
      "<re.Match object; span=(16, 19), match='fox'>\n",
      "<re.Match object; span=(16, 19), match='fox'>\n",
      "<re.Match object; span=(16, 19), match='fox'>\n",
      "<re.Match object; span=(16, 19), match='fox'>\n",
      "<re.Match object; span=(16, 19), match='fox'>\n",
      "<re.Match object; span=(16, 19), match='fox'>\n",
      "<re.Match object; span=(16, 19), match='fox'>\n",
      "<re.Match object; span=(16, 19), match='fox'>\n",
      "<re.Match object; span=(16, 19), match='fox'>\n",
      "<re.Match object; span=(16, 19), match='fox'>\n",
      "<re.Match object; span=(16, 19), match='fox'>\n",
      "<re.Match object; span=(16, 19), match='fox'>\n",
      "<re.Match object; span=(16, 19), match='fox'>\n",
      "<re.Match object; span=(16, 19), match='fox'>\n",
      "<re.Match object; span=(16, 19), match='fox'>\n",
      "<re.Match object; span=(16, 19), match='fox'>\n",
      "<re.Match object; span=(16, 19), match='fox'>\n",
      "<re.Match object; span=(16, 19), match='fox'>\n",
      "<re.Match object; span=(16, 19), match='fox'>\n",
      "<re.Match object; span=(16, 19), match='fox'>\n",
      "<re.Match object; span=(16, 19), match='fox'>\n",
      "<re.Match object; span=(16, 19), match='fox'>\n",
      "<re.Match object; span=(16, 19), match='fox'>\n",
      "<re.Match object; span=(16, 19), match='fox'>\n",
      "<re.Match object; span=(16, 19), match='fox'>\n",
      "<re.Match object; span=(16, 19), match='fox'>\n",
      "<re.Match object; span=(16, 19), match='fox'>\n",
      "<re.Match object; span=(16, 19), match='fox'>\n",
      "<re.Match object; span=(16, 19), match='fox'>\n",
      "<re.Match object; span=(16, 19), match='fox'>\n",
      "<re.Match object; span=(16, 19), match='fox'>\n",
      "<re.Match object; span=(16, 19), match='fox'>\n",
      "<re.Match object; span=(16, 19), match='fox'>\n",
      "<re.Match object; span=(16, 19), match='fox'>\n",
      "<re.Match object; span=(16, 19), match='fox'>\n"
     ]
    }
   ],
   "source": [
    "#question no 16\n",
    "import re\n",
    "pattern='The quick brown fox jumps over the lazy dog.'\n",
    "\n",
    "for yy in pattern:\n",
    "    search=re.search('fox',pattern)\n",
    "    print(search)\n"
   ]
  },
  {
   "cell_type": "code",
   "execution_count": 9,
   "id": "6761ba86",
   "metadata": {},
   "outputs": [
    {
     "name": "stdout",
     "output_type": "stream",
     "text": [
      "['exercises', 'exercises', 'exercises']\n"
     ]
    }
   ],
   "source": [
    "#question no 17\n",
    "import re\n",
    "\n",
    "text = 'Python exercises, PHP exercises, C# exercises'\n",
    "pattern = r'exercises'\n",
    "\n",
    "matches = re.findall(pattern, text)\n",
    "print(matches)"
   ]
  },
  {
   "cell_type": "code",
   "execution_count": null,
   "id": "b9432ba0",
   "metadata": {},
   "outputs": [],
   "source": [
    "#question no 18\n"
   ]
  },
  {
   "cell_type": "code",
   "execution_count": null,
   "id": "faf741ac",
   "metadata": {},
   "outputs": [],
   "source": [
    "#question no 19\n"
   ]
  },
  {
   "cell_type": "code",
   "execution_count": 16,
   "id": "f9704ed5",
   "metadata": {},
   "outputs": [
    {
     "name": "stdout",
     "output_type": "stream",
     "text": [
      "['01.12', '145.8', '3.01', '27.25', '0.25']\n"
     ]
    }
   ],
   "source": [
    "#question no 20\n",
    "import re\n",
    "text=\"01.12 0132.123 2.31875 145.8 3.01 27.25 0.25\"\n",
    "prog=re.compile(r'\\b\\d+\\.\\d{1,2}\\b')\n",
    "result=prog.findall(text)\n",
    "print(result)"
   ]
  },
  {
   "cell_type": "code",
   "execution_count": null,
   "id": "db30b0f0",
   "metadata": {},
   "outputs": [],
   "source": [
    "#question no 21\n"
   ]
  },
  {
   "cell_type": "code",
   "execution_count": 20,
   "id": "8415b2ff",
   "metadata": {},
   "outputs": [
    {
     "name": "stdout",
     "output_type": "stream",
     "text": [
      "Maximum numeric value: 950\n"
     ]
    }
   ],
   "source": [
    "#question no 22\n",
    "import re\n",
    "\n",
    "sample_text = 'My marks in each semester are: 947, 896, 926, 524, 734, 950, 642'\n",
    "numeric_values = [int(x) for x in re.findall(r'\\d+', sample_text)]\n",
    "max_value = max(numeric_values)\n",
    "print(\"Maximum numeric value:\", max_value)\n"
   ]
  },
  {
   "cell_type": "code",
   "execution_count": 21,
   "id": "46042f79",
   "metadata": {},
   "outputs": [
    {
     "name": "stdout",
     "output_type": "stream",
     "text": [
      "['Regular', 'Expression', 'Is', 'An', 'Important', 'Topic', 'In', 'Python']\n"
     ]
    }
   ],
   "source": [
    "#quetion no 23\n",
    "import re\n",
    "text= \"RegularExpressionIsAnImportantTopicInPython\"\n",
    "match=re.findall('[A-Z][a-z]*', text)\n",
    "print(match)"
   ]
  },
  {
   "cell_type": "code",
   "execution_count": 22,
   "id": "807f648a",
   "metadata": {},
   "outputs": [
    {
     "name": "stdout",
     "output_type": "stream",
     "text": [
      "['This', 'Test', 'Another', 'This', 'Is', 'Another', 'Test']\n"
     ]
    }
   ],
   "source": [
    "#question no 24\n",
    "import re\n",
    "\n",
    "text = \"This is a Test, and Another test. This Is Another Test.\"\n",
    "pattern = r'[A-Z][a-z]+'\n",
    "\n",
    "matches = re.findall(pattern, text)\n",
    "print(matches)\n"
   ]
  },
  {
   "cell_type": "code",
   "execution_count": 26,
   "id": "dc1e5af8",
   "metadata": {},
   "outputs": [
    {
     "name": "stdout",
     "output_type": "stream",
     "text": [
      "Hello world\n"
     ]
    }
   ],
   "source": [
    "#question no 25\n",
    "import re\n",
    "text=\"Hello hello world world\"\n",
    "pattern = r'\\b(\\w+)(?:\\s+\\1\\b)+'\n",
    "\n",
    "result = re.sub(pattern,r'\\1', text, flags=re.IGNORECASE)\n",
    "print(result)\n"
   ]
  },
  {
   "cell_type": "code",
   "execution_count": 32,
   "id": "dbc21648",
   "metadata": {},
   "outputs": [],
   "source": [
    "#question no 26\n"
   ]
  },
  {
   "cell_type": "code",
   "execution_count": 35,
   "id": "a53ba0bd",
   "metadata": {},
   "outputs": [
    {
     "name": "stdout",
     "output_type": "stream",
     "text": [
      "['#Doltiwal', '#xyzabc', '#Demonetization']\n"
     ]
    }
   ],
   "source": [
    "#question no 27\n",
    "import re\n",
    "text=\"\"\"RT @kapil_kausik: #Doltiwal I mean #xyzabc is \"hurt\" by #Demonetization as the same has rendered USELESS <ed><U+00A0><U+00BD><ed><U+00B1><U+0089> \"acquired funds\" No wo\"\"\"\n",
    "pattern = r'#\\w+'\n",
    "hashtags = re.findall(pattern, text)\n",
    "print(hashtags)"
   ]
  },
  {
   "cell_type": "code",
   "execution_count": 36,
   "id": "f78ea438",
   "metadata": {},
   "outputs": [
    {
     "name": "stdout",
     "output_type": "stream",
     "text": [
      "@Jags123456 Bharat band on 28??<ed><ed>Those who  are protesting #demonetization  are all different party leaders\n"
     ]
    }
   ],
   "source": [
    "#question no 28\n",
    "import re\n",
    "text=\"@Jags123456 Bharat band on 28??<ed><U+00A0><U+00BD><ed><U+00B8><U+0082>Those who  are protesting #demonetization  are all different party leaders\"\n",
    "pattern=re.sub(r'<U\\+[0-9A-Fa-f]+>', '', text)\n",
    "print(pattern)"
   ]
  },
  {
   "cell_type": "code",
   "execution_count": 37,
   "id": "b48708a9",
   "metadata": {},
   "outputs": [
    {
     "name": "stdout",
     "output_type": "stream",
     "text": [
      "['12-09-1992', '15-12-1999']\n"
     ]
    }
   ],
   "source": [
    "#question no 29\n",
    "import re\n",
    "text='Ron was born on 12-09-1992 and he was admitted to school 15-12-1999.'\n",
    "date_pattern = r'\\b\\d{2}-\\d{2}-\\d{4}\\b'\n",
    "dates = re.findall(date_pattern, text)\n",
    "print(dates)"
   ]
  },
  {
   "cell_type": "code",
   "execution_count": 38,
   "id": "619b8b91",
   "metadata": {},
   "outputs": [
    {
     "name": "stdout",
     "output_type": "stream",
     "text": [
      " following example creates  ArrayList  a capacity   elements. 4 elements   added   ArrayList   ArrayList  trimmed accordingly.\n"
     ]
    }
   ],
   "source": [
    "#question no 30\n",
    "import re\n",
    "text=\"The following example creates an ArrayList with a capacity of 50 elements. 4 elements are then added to the ArrayList and the ArrayList is trimmed accordingly.\" \n",
    "pattern = re.compile(r'\\b\\w{2,4}\\b') \n",
    "x=pattern.sub('',text)\n",
    "print(x)"
   ]
  },
  {
   "cell_type": "code",
   "execution_count": null,
   "id": "65bfb82e",
   "metadata": {},
   "outputs": [],
   "source": []
  },
  {
   "cell_type": "code",
   "execution_count": null,
   "id": "3d6fd50f",
   "metadata": {},
   "outputs": [],
   "source": []
  }
 ],
 "metadata": {
  "kernelspec": {
   "display_name": "Python 3 (ipykernel)",
   "language": "python",
   "name": "python3"
  },
  "language_info": {
   "codemirror_mode": {
    "name": "ipython",
    "version": 3
   },
   "file_extension": ".py",
   "mimetype": "text/x-python",
   "name": "python",
   "nbconvert_exporter": "python",
   "pygments_lexer": "ipython3",
   "version": "3.11.4"
  }
 },
 "nbformat": 4,
 "nbformat_minor": 5
}
